{
 "cells": [
  {
   "cell_type": "markdown",
   "id": "93e0d5ad-8466-4ebf-85e7-88beb9a2f815",
   "metadata": {},
   "source": [
    "Variables In Python"
   ]
  },
  {
   "cell_type": "code",
   "execution_count": 2,
   "id": "ef8f9c58-0129-4e92-b28d-5449494de12a",
   "metadata": {},
   "outputs": [
    {
     "name": "stdout",
     "output_type": "stream",
     "text": [
      "15\n"
     ]
    }
   ],
   "source": [
    "a = 5  \n",
    "b = 3  \n",
    "area = a * b  \n",
    "print(area)  \n"
   ]
  },
  {
   "cell_type": "code",
   "execution_count": 5,
   "id": "05d3488b-a2b5-49f0-a426-38e33a56ca07",
   "metadata": {},
   "outputs": [
    {
     "data": {
      "text/plain": [
       "'Arooj Fatima'"
      ]
     },
     "execution_count": 5,
     "metadata": {},
     "output_type": "execute_result"
    }
   ],
   "source": [
    "name = \"Arooj Fatima\"\n",
    "name\n"
   ]
  },
  {
   "cell_type": "markdown",
   "id": "360fb873-3a9e-4ad8-a37e-a7859047f00d",
   "metadata": {},
   "source": [
    "How to Calculate Discounted Price Using Variables in Python?"
   ]
  },
  {
   "cell_type": "code",
   "execution_count": 8,
   "id": "487e358e-051c-439a-bd3b-20b49ae9ef49",
   "metadata": {},
   "outputs": [
    {
     "data": {
      "text/plain": [
       "130"
      ]
     },
     "execution_count": 8,
     "metadata": {},
     "output_type": "execute_result"
    }
   ],
   "source": [
    "price = 150\n",
    "discount = 20\n",
    "final_price = price - discount\n",
    "final_price\n"
   ]
  },
  {
   "cell_type": "markdown",
   "id": "5dff58fb-40b6-4051-9e9b-6b6a4b8b32dc",
   "metadata": {},
   "source": [
    " How to Store and Print Different Types of Data Using Variables |in Python?"
   ]
  },
  {
   "cell_type": "code",
   "execution_count": 12,
   "id": "aa14db36-17e9-4b20-b4ca-dac60ea656f0",
   "metadata": {},
   "outputs": [
    {
     "name": "stdout",
     "output_type": "stream",
     "text": [
      "Sara\n",
      "25\n",
      "5.6\n",
      "True\n"
     ]
    }
   ],
   "source": [
    "\n",
    "name = \"Sara\"\n",
    "age = 25\n",
    "height = 5.6\n",
    "is_active = True\n",
    "\n",
    "print(name)\n",
    "print(age)\n",
    "print(height)\n",
    "print(is_active)\n"
   ]
  },
  {
   "cell_type": "markdown",
   "id": "45416c91-05b2-4f3a-abd7-b18588c36b81",
   "metadata": {},
   "source": [
    "Valid Examples"
   ]
  },
  {
   "cell_type": "code",
   "execution_count": 18,
   "id": "6c24a3dd-15e2-4e51-bd47-6d8ff674e19a",
   "metadata": {},
   "outputs": [
    {
     "name": "stdout",
     "output_type": "stream",
     "text": [
      "Hira\n",
      "Ali\n",
      "25\n"
     ]
    }
   ],
   "source": [
    "my_name = \"Ali\"\n",
    "_age = 25\n",
    "user1 = \"Hira\"\n",
    "print(user1)\n",
    "print(my_name)\n",
    "print(_age)"
   ]
  },
  {
   "cell_type": "markdown",
   "id": "930d1e05-fb9c-4099-b0f7-e83b44f10a39",
   "metadata": {},
   "source": [
    "Invalid Examples"
   ]
  },
  {
   "cell_type": "code",
   "execution_count": 20,
   "id": "4b6efcc7-65f4-4ae7-8956-47e879b101cc",
   "metadata": {},
   "outputs": [
    {
     "ename": "SyntaxError",
     "evalue": "invalid decimal literal (432460804.py, line 1)",
     "output_type": "error",
     "traceback": [
      "\u001b[1;36m  Cell \u001b[1;32mIn[20], line 1\u001b[1;36m\u001b[0m\n\u001b[1;33m    1name = \"Ali\"       # Starts with number\u001b[0m\n\u001b[1;37m    ^\u001b[0m\n\u001b[1;31mSyntaxError\u001b[0m\u001b[1;31m:\u001b[0m invalid decimal literal\n"
     ]
    }
   ],
   "source": [
    "1name = \"Ali\"       # Starts with number\n",
    "my name = \"Hira\"    # Space not allowed\n",
    "class = \"Python\"    # ‘class’ is a keyword\n",
    "print(1name)\n",
    "print(my_name)\n",
    "print(class)"
   ]
  },
  {
   "cell_type": "markdown",
   "id": "7555f4a8-7d7b-43f8-8952-b20345cfa8f1",
   "metadata": {},
   "source": [
    "Using Variables to Calculate Area of Rectangle"
   ]
  },
  {
   "cell_type": "code",
   "execution_count": 24,
   "id": "aba8bdb2-605d-49a1-bc79-acdc12c5e3c0",
   "metadata": {},
   "outputs": [
    {
     "data": {
      "text/plain": [
       "50"
      ]
     },
     "execution_count": 24,
     "metadata": {},
     "output_type": "execute_result"
    }
   ],
   "source": [
    "length = 10\n",
    "breadth = 5\n",
    "area = length * breadth\n",
    "area\n"
   ]
  },
  {
   "cell_type": "code",
   "execution_count": null,
   "id": "eced1a96-03b3-4c38-a6ec-360120d521a7",
   "metadata": {},
   "outputs": [],
   "source": []
  }
 ],
 "metadata": {
  "kernelspec": {
   "display_name": "Python 3 (ipykernel)",
   "language": "python",
   "name": "python3"
  },
  "language_info": {
   "codemirror_mode": {
    "name": "ipython",
    "version": 3
   },
   "file_extension": ".py",
   "mimetype": "text/x-python",
   "name": "python",
   "nbconvert_exporter": "python",
   "pygments_lexer": "ipython3",
   "version": "3.12.4"
  }
 },
 "nbformat": 4,
 "nbformat_minor": 5
}
